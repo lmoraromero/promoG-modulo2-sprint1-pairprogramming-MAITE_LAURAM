{
 "cells": [
  {
   "cell_type": "markdown",
   "metadata": {},
   "source": [
    "# Ejercicios BeautifulSoup"
   ]
  },
  {
   "cell_type": "markdown",
   "metadata": {},
   "source": [
    "1. Escribe una función llamada scrape_coches_ocasion que acepta una URL como argumento y devuelve un DataFrame de pandas con información sobre coches de ocasión"
   ]
  },
  {
   "cell_type": "markdown",
   "metadata": {},
   "source": [
    "Realizará una solicitud HTTP GET a la siguiente url"
   ]
  },
  {
   "cell_type": "code",
   "execution_count": 2,
   "metadata": {},
   "outputs": [],
   "source": [
    "from bs4 import BeautifulSoup\n",
    "import requests\n",
    "# -----------------------------------------------------------------------\n",
    "import pandas as pd\n",
    "# -----------------------------------------------------------------------\n",
    "import re"
   ]
  },
  {
   "cell_type": "code",
   "execution_count": 3,
   "metadata": {},
   "outputs": [
    {
     "name": "stdout",
     "output_type": "stream",
     "text": [
      "La llamada se ha realizado con éxito\n"
     ]
    }
   ],
   "source": [
    "url_coche = 'https://www.ocasionplus.com/ofertas-especiales'\n",
    "\n",
    "res_coche = requests.get(url_coche)\n",
    "\n",
    "if res_coche.status_code == 200:\n",
    "    print('La llamada se ha realizado con éxito')\n",
    "else:\n",
    "    print(F'Error de llamada. {res_coche.status_code}')\n"
   ]
  },
  {
   "cell_type": "code",
   "execution_count": 4,
   "metadata": {},
   "outputs": [],
   "source": [
    "sopa_coche = BeautifulSoup(res_coche.content, 'html.parser')"
   ]
  },
  {
   "cell_type": "markdown",
   "metadata": {},
   "source": [
    "Extraer nombre de los coches, los precios rebajados, los precios originales,  la información de los kilometros"
   ]
  },
  {
   "cell_type": "code",
   "execution_count": 9,
   "metadata": {},
   "outputs": [],
   "source": [
    "#Extraemos el nombre de los coches:\n",
    "\n",
    "coches_nombre = sopa_coche.find_all('h2')[1:-5] #Aquí especificando estos índices quitamos los títulos que venían en la página"
   ]
  },
  {
   "cell_type": "code",
   "execution_count": 10,
   "metadata": {},
   "outputs": [
    {
     "data": {
      "text/plain": [
       "[<h2 style=\"overflow-x:hidden\">Fiat Tipo Sedan 1.4 16v Easy (95 CV)</h2>,\n",
       " <h2 style=\"overflow-x:hidden\">Citroen C3 PureTech 82 Shine (83 CV)</h2>,\n",
       " <h2 style=\"overflow-x:hidden\">Peugeot 308 SW 1.2 PureTech S&amp;S Active (130 CV)</h2>,\n",
       " <h2 style=\"overflow-x:hidden\">Citroen C4 PureTech 130 S&amp;S Feel Edition (130 CV)</h2>,\n",
       " <h2 style=\"overflow-x:hidden\">Toyota Proace 1.5D GX Plus 1PL 2PT L1 (100CV)</h2>,\n",
       " <h2 style=\"overflow-x:hidden\">Dacia Jogger S.L. Extreme TCe (110CV) 7 plazas</h2>,\n",
       " <h2 style=\"overflow-x:hidden\">Opel Meriva 1.4 Selective (120CV)</h2>,\n",
       " <h2 style=\"overflow-x:hidden\">Hyundai Kona 1.0 TGDI Klass 4x2 (120 CV)</h2>,\n",
       " <h2 style=\"overflow-x:hidden\">Renault Kangoo Furgon Z.E. (60 CV) AUTO</h2>,\n",
       " <h2 style=\"overflow-x:hidden\">Citroen Grand C4 Picasso BlueHDI 150 Airdream Feel Edition Aut. 7 Plazas (150 CV)</h2>,\n",
       " <h2 style=\"overflow-x:hidden\">BMW Serie 3 320i AUTO (184 CV)</h2>,\n",
       " <h2 style=\"overflow-x:hidden\">Skoda Fabia 1.0 TSI  (110cv) Ambition Plus</h2>,\n",
       " <h2 style=\"overflow-x:hidden\">Audi A3 Sportback Sportback Attracted 1.6 TDI clean diesel 81 kW (110 CV)</h2>,\n",
       " <h2 style=\"overflow-x:hidden\">Opel Corsa 1.5D DT Edition (102 CV)</h2>,\n",
       " <h2 style=\"overflow-x:hidden\">Audi A1 Sportback Sportback Attraction 1.6 TDI (116 CV)</h2>,\n",
       " <h2 style=\"overflow-x:hidden\">Mercedes-Benz Clase C C Coupe 43 Mercedes 4Matic (367 CV) AMG AUTO</h2>,\n",
       " <h2 style=\"overflow-x:hidden\">Peugeot Traveller BlueHDi 120 S&amp;S Business Long (120 CV) 9 Plazas</h2>,\n",
       " <h2 style=\"overflow-x:hidden\">Peugeot Traveller BlueHDi 120 S&amp;S Business Long (120 CV) 9 Plazas</h2>,\n",
       " <h2 style=\"overflow-x:hidden\">BMW X1 sDrive18d (150 CV)</h2>,\n",
       " <h2 style=\"overflow-x:hidden\">Peugeot Traveller BlueHDi 120 S&amp;S Business Long (120 CV) 9 Plazas</h2>]"
      ]
     },
     "execution_count": 10,
     "metadata": {},
     "output_type": "execute_result"
    }
   ],
   "source": [
    "coches_nombre"
   ]
  },
  {
   "cell_type": "code",
   "execution_count": 11,
   "metadata": {},
   "outputs": [
    {
     "name": "stdout",
     "output_type": "stream",
     "text": [
      "['Fiat Tipo Sedan 1.4 16v Easy (95 CV)', 'Citroen C3 PureTech 82 Shine (83 CV)', 'Peugeot 308 SW 1.2 PureTech S&S Active (130 CV)', 'Citroen C4 PureTech 130 S&S Feel Edition (130 CV)', 'Toyota Proace 1.5D GX Plus 1PL 2PT L1 (100CV)', 'Dacia Jogger S.L. Extreme TCe (110CV) 7 plazas', 'Opel Meriva 1.4 Selective (120CV)', 'Hyundai Kona 1.0 TGDI Klass 4x2 (120 CV)', 'Renault Kangoo Furgon Z.E. (60 CV) AUTO', 'Citroen Grand C4 Picasso BlueHDI 150 Airdream Feel Edition Aut. 7 Plazas (150 CV)', 'BMW Serie 3 320i AUTO (184 CV)', 'Skoda Fabia 1.0 TSI  (110cv) Ambition Plus', 'Audi A3 Sportback Sportback Attracted 1.6 TDI clean diesel 81 kW (110 CV)', 'Opel Corsa 1.5D DT Edition (102 CV)', 'Audi A1 Sportback Sportback Attraction 1.6 TDI (116 CV)', 'Mercedes-Benz Clase C C Coupe 43 Mercedes 4Matic (367 CV) AMG AUTO', 'Peugeot Traveller BlueHDi 120 S&S Business Long (120 CV) 9 Plazas', 'Peugeot Traveller BlueHDi 120 S&S Business Long (120 CV) 9 Plazas', 'BMW X1 sDrive18d (150 CV)', 'Peugeot Traveller BlueHDi 120 S&S Business Long (120 CV) 9 Plazas']\n"
     ]
    }
   ],
   "source": [
    "#Los metemos en una lista:\n",
    "\n",
    "nombres_coches = []\n",
    "for el in coches_nombre:\n",
    "    nombres_coches.append(el.text)\n",
    "\n",
    "\n",
    "print(nombres_coches)"
   ]
  },
  {
   "cell_type": "code",
   "execution_count": 12,
   "metadata": {},
   "outputs": [],
   "source": [
    "#Sacamos el precio total de los coches (con el descuento)\n",
    "precios_totales = sopa_coche.find_all('span', {'class': 'price'})"
   ]
  },
  {
   "cell_type": "code",
   "execution_count": 13,
   "metadata": {},
   "outputs": [],
   "source": [
    "#Sacamos el precio original de los coches sin el descuento\n",
    "precios_originales = sopa_coche.find_all('span', {'class': 'priceLast'})"
   ]
  },
  {
   "cell_type": "code",
   "execution_count": 14,
   "metadata": {},
   "outputs": [],
   "source": [
    "lista_precios_totales = []\n",
    "for el in precios_totales:\n",
    "    precio = el.text\n",
    "    precio2 = precio.split('€')\n",
    "    precio_limpio = precio2[0].replace('.', '')\n",
    "    lista_precios_totales.append(precio_limpio)\n",
    "    "
   ]
  },
  {
   "cell_type": "code",
   "execution_count": 15,
   "metadata": {},
   "outputs": [
    {
     "data": {
      "text/plain": [
       "['9000',\n",
       " '11545',\n",
       " '12636',\n",
       " '9450',\n",
       " '24363',\n",
       " '18090',\n",
       " '9000',\n",
       " '18627',\n",
       " '10727',\n",
       " '13545',\n",
       " '17450',\n",
       " '13172',\n",
       " '13954',\n",
       " '12363',\n",
       " '14955',\n",
       " '44454',\n",
       " '28400',\n",
       " '28445',\n",
       " '18150',\n",
       " '28354']"
      ]
     },
     "execution_count": 15,
     "metadata": {},
     "output_type": "execute_result"
    }
   ],
   "source": [
    "lista_precios_totales"
   ]
  },
  {
   "cell_type": "code",
   "execution_count": 16,
   "metadata": {},
   "outputs": [
    {
     "data": {
      "text/plain": [
       "[<span class=\"jsx-2870186023 priceLast\">10.350<!-- -->€</span>,\n",
       " <span class=\"jsx-2870186023 priceLast\">15.600<!-- -->€</span>,\n",
       " <span class=\"jsx-2870186023 priceLast\">15.870<!-- -->€</span>,\n",
       " <span class=\"jsx-2870186023 priceLast\">10.990<!-- -->€</span>,\n",
       " <span class=\"jsx-2870186023 priceLast\">27.800<!-- -->€</span>,\n",
       " <span class=\"jsx-2870186023 priceLast\">19.990<!-- -->€</span>,\n",
       " <span class=\"jsx-2870186023 priceLast\">10.900<!-- -->€</span>,\n",
       " <span class=\"jsx-2870186023 priceLast\">21.490<!-- -->€</span>,\n",
       " <span class=\"jsx-2870186023 priceLast\">12.200<!-- -->€</span>,\n",
       " <span class=\"jsx-2870186023 priceLast\">17.750<!-- -->€</span>,\n",
       " <span class=\"jsx-2870186023 priceLast\">19.500<!-- -->€</span>,\n",
       " <span class=\"jsx-2870186023 priceLast\">14.990<!-- -->€</span>,\n",
       " <span class=\"jsx-2870186023 priceLast\">15.700<!-- -->€</span>,\n",
       " <span class=\"jsx-2870186023 priceLast\">13.650<!-- -->€</span>,\n",
       " <span class=\"jsx-2870186023 priceLast\">16.700<!-- -->€</span>,\n",
       " <span class=\"jsx-2870186023 priceLast\">51.500<!-- -->€</span>,\n",
       " <span class=\"jsx-2870186023 priceLast\">31.250<!-- -->€</span>,\n",
       " <span class=\"jsx-2870186023 priceLast\">31.300<!-- -->€</span>,\n",
       " <span class=\"jsx-2870186023 priceLast\">18.500<!-- -->€</span>,\n",
       " <span class=\"jsx-2870186023 priceLast\">31.200<!-- -->€</span>]"
      ]
     },
     "execution_count": 16,
     "metadata": {},
     "output_type": "execute_result"
    }
   ],
   "source": [
    "precios_originales"
   ]
  },
  {
   "cell_type": "code",
   "execution_count": 17,
   "metadata": {},
   "outputs": [],
   "source": [
    "lista_precios_originales = []\n",
    "for el in precios_originales:\n",
    "    precio = el.text\n",
    "    precio2 = precio.split('€')\n",
    "    precio_limpio = precio2[0].replace('.', '')\n",
    "    lista_precios_originales.append(precio_limpio)"
   ]
  },
  {
   "cell_type": "code",
   "execution_count": 18,
   "metadata": {},
   "outputs": [
    {
     "data": {
      "text/plain": [
       "['10350',\n",
       " '15600',\n",
       " '15870',\n",
       " '10990',\n",
       " '27800',\n",
       " '19990',\n",
       " '10900',\n",
       " '21490',\n",
       " '12200',\n",
       " '17750',\n",
       " '19500',\n",
       " '14990',\n",
       " '15700',\n",
       " '13650',\n",
       " '16700',\n",
       " '51500',\n",
       " '31250',\n",
       " '31300',\n",
       " '18500',\n",
       " '31200']"
      ]
     },
     "execution_count": 18,
     "metadata": {},
     "output_type": "execute_result"
    }
   ],
   "source": [
    "lista_precios_originales"
   ]
  },
  {
   "cell_type": "code",
   "execution_count": 19,
   "metadata": {},
   "outputs": [],
   "source": [
    "datos = sopa_coche.find_all('span', {'class': 'detail'})"
   ]
  },
  {
   "cell_type": "code",
   "execution_count": 20,
   "metadata": {},
   "outputs": [],
   "source": [
    "datos = sopa_coche.find_all(\"span\", {\"class\": \"jsx-3960002075 detail big\"})"
   ]
  },
  {
   "cell_type": "code",
   "execution_count": 23,
   "metadata": {},
   "outputs": [],
   "source": [
    "#Sacamos los kilómetros:\n",
    "\n",
    "lista_km = []\n",
    "\n",
    "for dato in datos:\n",
    "    if \"km\" in dato.getText():\n",
    "        km = dato.getText().split()\n",
    "        lista_km.append(km[0].replace('.', ''))\n"
   ]
  },
  {
   "cell_type": "code",
   "execution_count": 24,
   "metadata": {},
   "outputs": [
    {
     "data": {
      "text/plain": [
       "['94085',\n",
       " '51694',\n",
       " '62682',\n",
       " '123264',\n",
       " '24996',\n",
       " '54057',\n",
       " '73411',\n",
       " '11723',\n",
       " '42321',\n",
       " '116684',\n",
       " '129655',\n",
       " '52382',\n",
       " '146731',\n",
       " '32709',\n",
       " '82888',\n",
       " '91525',\n",
       " '77831',\n",
       " '72170',\n",
       " '117610',\n",
       " '78792']"
      ]
     },
     "execution_count": 24,
     "metadata": {},
     "output_type": "execute_result"
    }
   ],
   "source": [
    "lista_km"
   ]
  },
  {
   "cell_type": "markdown",
   "metadata": {},
   "source": [
    "Crear una función:"
   ]
  },
  {
   "cell_type": "code",
   "execution_count": 25,
   "metadata": {},
   "outputs": [],
   "source": [
    "def obtener_datos_coche(url):\n",
    "\n",
    "    # Realizar la llamada\n",
    "    res_coche = requests.get(url)\n",
    "\n",
    "    # Verificar el estado de la llamada\n",
    "    if res_coche.status_code != 200:\n",
    "        print(F'Error de llamada. {res_coche.status_code}')\n",
    "    else:\n",
    "        pass\n",
    "\n",
    "    sopa_coche = BeautifulSoup(res_coche.content, 'html.parser')\n",
    "\n",
    "    # Extraer el nombre de los coches\n",
    "    coches_nombre = sopa_coche.find_all('h2')[1:-5] \n",
    "    nombres_coches = []\n",
    "    for el in coches_nombre:\n",
    "        nombres_coches.append(el.text)\n",
    "\n",
    "    # Extraer los precios totales\n",
    "    precios_totales = sopa_coche.find_all('span', {'class': 'price'})\n",
    "    lista_precios_totales = []\n",
    "    for el in precios_totales:\n",
    "        precio = el.text\n",
    "        precio2 = precio.split('€')\n",
    "        precio_limpio = precio2[0].replace('.', '')\n",
    "        lista_precios_totales.append(precio_limpio)\n",
    "\n",
    "    # Extraer los precios originales\n",
    "    precios_originales = sopa_coche.find_all('span', {'class': 'priceLast'})\n",
    "    lista_precios_originales = []\n",
    "    for el in precios_originales:\n",
    "        if el is not None:\n",
    "            precio_original = el.text.split('€')[0].replace('.', '')\n",
    "            lista_precios_originales.append(precio_original)\n",
    "        else:\n",
    "            lista_precios_originales.append('None')\n",
    "\n",
    "    # Extraer los kilómetros\n",
    "    datos = sopa_coche.find_all(\"span\", {\"class\": \"jsx-3960002075 detail big\"})\n",
    "    lista_km = []\n",
    "    for dato in datos:\n",
    "        if \"km\" in dato.getText():\n",
    "            km = dato.getText().split()\n",
    "            lista_km.append(km[0].replace('.', ''))\n",
    "\n",
    "    # Crear el DataFrame\n",
    "    df_coches = pd.DataFrame({\n",
    "        \"Nombre\": nombres_coches,\n",
    "        \"Precio Total (€)\": lista_precios_totales,\n",
    "        \"Precio Original (€)\": lista_precios_originales,\n",
    "        \"Kilometraje\": lista_km\n",
    "    })\n",
    "\n",
    "    return df_coches"
   ]
  },
  {
   "cell_type": "code",
   "execution_count": 28,
   "metadata": {},
   "outputs": [],
   "source": [
    "# Ejemplo de uso\n",
    "url = 'https://www.ocasionplus.com/ofertas-especiales'\n",
    "df_coches = obtener_datos_coche(url)\n"
   ]
  },
  {
   "cell_type": "code",
   "execution_count": 30,
   "metadata": {},
   "outputs": [
    {
     "data": {
      "text/html": [
       "<div>\n",
       "<style scoped>\n",
       "    .dataframe tbody tr th:only-of-type {\n",
       "        vertical-align: middle;\n",
       "    }\n",
       "\n",
       "    .dataframe tbody tr th {\n",
       "        vertical-align: top;\n",
       "    }\n",
       "\n",
       "    .dataframe thead th {\n",
       "        text-align: right;\n",
       "    }\n",
       "</style>\n",
       "<table border=\"1\" class=\"dataframe\">\n",
       "  <thead>\n",
       "    <tr style=\"text-align: right;\">\n",
       "      <th></th>\n",
       "      <th>Nombre</th>\n",
       "      <th>Precio Total (€)</th>\n",
       "      <th>Precio Original (€)</th>\n",
       "      <th>Kilometraje</th>\n",
       "    </tr>\n",
       "  </thead>\n",
       "  <tbody>\n",
       "    <tr>\n",
       "      <th>0</th>\n",
       "      <td>Fiat Tipo Sedan 1.4 16v Easy (95 CV)</td>\n",
       "      <td>9000</td>\n",
       "      <td>10350</td>\n",
       "      <td>94085</td>\n",
       "    </tr>\n",
       "    <tr>\n",
       "      <th>1</th>\n",
       "      <td>Citroen C3 PureTech 82 Shine (83 CV)</td>\n",
       "      <td>11545</td>\n",
       "      <td>15600</td>\n",
       "      <td>51694</td>\n",
       "    </tr>\n",
       "    <tr>\n",
       "      <th>2</th>\n",
       "      <td>Peugeot 308 SW 1.2 PureTech S&amp;S Active (130 CV)</td>\n",
       "      <td>12636</td>\n",
       "      <td>15870</td>\n",
       "      <td>62682</td>\n",
       "    </tr>\n",
       "    <tr>\n",
       "      <th>3</th>\n",
       "      <td>Citroen C4 PureTech 130 S&amp;S Feel Edition (130 CV)</td>\n",
       "      <td>9450</td>\n",
       "      <td>10990</td>\n",
       "      <td>123264</td>\n",
       "    </tr>\n",
       "    <tr>\n",
       "      <th>4</th>\n",
       "      <td>Toyota Proace 1.5D GX Plus 1PL 2PT L1 (100CV)</td>\n",
       "      <td>24363</td>\n",
       "      <td>27800</td>\n",
       "      <td>24996</td>\n",
       "    </tr>\n",
       "    <tr>\n",
       "      <th>5</th>\n",
       "      <td>Dacia Jogger S.L. Extreme TCe (110CV) 7 plazas</td>\n",
       "      <td>18090</td>\n",
       "      <td>19990</td>\n",
       "      <td>54057</td>\n",
       "    </tr>\n",
       "    <tr>\n",
       "      <th>6</th>\n",
       "      <td>Opel Meriva 1.4 Selective (120CV)</td>\n",
       "      <td>9000</td>\n",
       "      <td>10900</td>\n",
       "      <td>73411</td>\n",
       "    </tr>\n",
       "    <tr>\n",
       "      <th>7</th>\n",
       "      <td>Hyundai Kona 1.0 TGDI Klass 4x2 (120 CV)</td>\n",
       "      <td>18627</td>\n",
       "      <td>21490</td>\n",
       "      <td>11723</td>\n",
       "    </tr>\n",
       "    <tr>\n",
       "      <th>8</th>\n",
       "      <td>Renault Kangoo Furgon Z.E. (60 CV) AUTO</td>\n",
       "      <td>10727</td>\n",
       "      <td>12200</td>\n",
       "      <td>42321</td>\n",
       "    </tr>\n",
       "    <tr>\n",
       "      <th>9</th>\n",
       "      <td>Citroen Grand C4 Picasso BlueHDI 150 Airdream ...</td>\n",
       "      <td>13545</td>\n",
       "      <td>17750</td>\n",
       "      <td>116684</td>\n",
       "    </tr>\n",
       "    <tr>\n",
       "      <th>10</th>\n",
       "      <td>BMW Serie 3 320i AUTO (184 CV)</td>\n",
       "      <td>17450</td>\n",
       "      <td>19500</td>\n",
       "      <td>129655</td>\n",
       "    </tr>\n",
       "    <tr>\n",
       "      <th>11</th>\n",
       "      <td>Skoda Fabia 1.0 TSI  (110cv) Ambition Plus</td>\n",
       "      <td>13172</td>\n",
       "      <td>14990</td>\n",
       "      <td>52382</td>\n",
       "    </tr>\n",
       "    <tr>\n",
       "      <th>12</th>\n",
       "      <td>Audi A3 Sportback Sportback Attracted 1.6 TDI ...</td>\n",
       "      <td>13954</td>\n",
       "      <td>15700</td>\n",
       "      <td>146731</td>\n",
       "    </tr>\n",
       "    <tr>\n",
       "      <th>13</th>\n",
       "      <td>Opel Corsa 1.5D DT Edition (102 CV)</td>\n",
       "      <td>12363</td>\n",
       "      <td>13650</td>\n",
       "      <td>32709</td>\n",
       "    </tr>\n",
       "    <tr>\n",
       "      <th>14</th>\n",
       "      <td>Audi A1 Sportback Sportback Attraction 1.6 TDI...</td>\n",
       "      <td>14955</td>\n",
       "      <td>16700</td>\n",
       "      <td>82888</td>\n",
       "    </tr>\n",
       "    <tr>\n",
       "      <th>15</th>\n",
       "      <td>Mercedes-Benz Clase C C Coupe 43 Mercedes 4Mat...</td>\n",
       "      <td>44454</td>\n",
       "      <td>51500</td>\n",
       "      <td>91525</td>\n",
       "    </tr>\n",
       "    <tr>\n",
       "      <th>16</th>\n",
       "      <td>Peugeot Traveller BlueHDi 120 S&amp;S Business Lon...</td>\n",
       "      <td>28400</td>\n",
       "      <td>31250</td>\n",
       "      <td>77831</td>\n",
       "    </tr>\n",
       "    <tr>\n",
       "      <th>17</th>\n",
       "      <td>Peugeot Traveller BlueHDi 120 S&amp;S Business Lon...</td>\n",
       "      <td>28445</td>\n",
       "      <td>31300</td>\n",
       "      <td>72170</td>\n",
       "    </tr>\n",
       "    <tr>\n",
       "      <th>18</th>\n",
       "      <td>BMW X1 sDrive18d (150 CV)</td>\n",
       "      <td>18150</td>\n",
       "      <td>18500</td>\n",
       "      <td>117610</td>\n",
       "    </tr>\n",
       "    <tr>\n",
       "      <th>19</th>\n",
       "      <td>Peugeot Traveller BlueHDi 120 S&amp;S Business Lon...</td>\n",
       "      <td>28354</td>\n",
       "      <td>31200</td>\n",
       "      <td>78792</td>\n",
       "    </tr>\n",
       "  </tbody>\n",
       "</table>\n",
       "</div>"
      ],
      "text/plain": [
       "                                               Nombre Precio Total (€)  \\\n",
       "0                Fiat Tipo Sedan 1.4 16v Easy (95 CV)             9000   \n",
       "1                Citroen C3 PureTech 82 Shine (83 CV)            11545   \n",
       "2     Peugeot 308 SW 1.2 PureTech S&S Active (130 CV)            12636   \n",
       "3   Citroen C4 PureTech 130 S&S Feel Edition (130 CV)             9450   \n",
       "4       Toyota Proace 1.5D GX Plus 1PL 2PT L1 (100CV)            24363   \n",
       "5      Dacia Jogger S.L. Extreme TCe (110CV) 7 plazas            18090   \n",
       "6                   Opel Meriva 1.4 Selective (120CV)             9000   \n",
       "7            Hyundai Kona 1.0 TGDI Klass 4x2 (120 CV)            18627   \n",
       "8             Renault Kangoo Furgon Z.E. (60 CV) AUTO            10727   \n",
       "9   Citroen Grand C4 Picasso BlueHDI 150 Airdream ...            13545   \n",
       "10                     BMW Serie 3 320i AUTO (184 CV)            17450   \n",
       "11         Skoda Fabia 1.0 TSI  (110cv) Ambition Plus            13172   \n",
       "12  Audi A3 Sportback Sportback Attracted 1.6 TDI ...            13954   \n",
       "13                Opel Corsa 1.5D DT Edition (102 CV)            12363   \n",
       "14  Audi A1 Sportback Sportback Attraction 1.6 TDI...            14955   \n",
       "15  Mercedes-Benz Clase C C Coupe 43 Mercedes 4Mat...            44454   \n",
       "16  Peugeot Traveller BlueHDi 120 S&S Business Lon...            28400   \n",
       "17  Peugeot Traveller BlueHDi 120 S&S Business Lon...            28445   \n",
       "18                          BMW X1 sDrive18d (150 CV)            18150   \n",
       "19  Peugeot Traveller BlueHDi 120 S&S Business Lon...            28354   \n",
       "\n",
       "   Precio Original (€) Kilometraje  \n",
       "0                10350       94085  \n",
       "1                15600       51694  \n",
       "2                15870       62682  \n",
       "3                10990      123264  \n",
       "4                27800       24996  \n",
       "5                19990       54057  \n",
       "6                10900       73411  \n",
       "7                21490       11723  \n",
       "8                12200       42321  \n",
       "9                17750      116684  \n",
       "10               19500      129655  \n",
       "11               14990       52382  \n",
       "12               15700      146731  \n",
       "13               13650       32709  \n",
       "14               16700       82888  \n",
       "15               51500       91525  \n",
       "16               31250       77831  \n",
       "17               31300       72170  \n",
       "18               18500      117610  \n",
       "19               31200       78792  "
      ]
     },
     "execution_count": 30,
     "metadata": {},
     "output_type": "execute_result"
    }
   ],
   "source": [
    "df_coches"
   ]
  }
 ],
 "metadata": {
  "kernelspec": {
   "display_name": "base",
   "language": "python",
   "name": "python3"
  },
  "language_info": {
   "codemirror_mode": {
    "name": "ipython",
    "version": 3
   },
   "file_extension": ".py",
   "mimetype": "text/x-python",
   "name": "python",
   "nbconvert_exporter": "python",
   "pygments_lexer": "ipython3",
   "version": "3.9.0"
  }
 },
 "nbformat": 4,
 "nbformat_minor": 2
}
